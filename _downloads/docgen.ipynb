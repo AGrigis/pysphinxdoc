{
  "nbformat_minor": 0, 
  "nbformat": 4, 
  "cells": [
    {
      "execution_count": null, 
      "cell_type": "code", 
      "source": [
        "%matplotlib inline"
      ], 
      "outputs": [], 
      "metadata": {
        "collapsed": false
      }
    }, 
    {
      "source": [
        "\nBasic example on how to generate a package documentation\n========================================================\n\nA simple example of how to document a Python package, here 'pysphinxdoc'.\n\n"
      ], 
      "cell_type": "markdown", 
      "metadata": {}
    }, 
    {
      "execution_count": null, 
      "cell_type": "code", 
      "source": [
        "# System import\nimport subprocess\n\n# Generate the rst auto documentation\ncmd = [\"sphinxdoc\", \"-v\", \"2\", \"-p\", \"$HOME/git/pysphinxdoc\", \"-n\",\n       \"pysphinxdoc\", \"-o\", \"$HOME/git/pysphinxdoc/doc\"]\nsubprocess.check_call(cmd)\n\n\n# Then compute the html documentation\ncmd = [\"make\", \"raw-html\"]\nsubprocess.check_call(cmd,  cwd=\"$HOME/git/pysphinxdoc/doc\")"
      ], 
      "outputs": [], 
      "metadata": {
        "collapsed": false
      }
    }
  ], 
  "metadata": {
    "kernelspec": {
      "display_name": "Python 2", 
      "name": "python2", 
      "language": "python"
    }, 
    "language_info": {
      "mimetype": "text/x-python", 
      "nbconvert_exporter": "python", 
      "name": "python", 
      "file_extension": ".py", 
      "version": "2.7.12", 
      "pygments_lexer": "ipython2", 
      "codemirror_mode": {
        "version": 2, 
        "name": "ipython"
      }
    }
  }
}