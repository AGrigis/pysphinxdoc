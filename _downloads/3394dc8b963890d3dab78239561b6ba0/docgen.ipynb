{
  "cells": [
    {
      "cell_type": "markdown",
      "metadata": {},
      "source": [
        "\n# Basic example on how to generate a package documentation\n\nA simple example of how to document a Python package, here 'pysphinxdoc'.\n"
      ]
    },
    {
      "cell_type": "code",
      "execution_count": null,
      "metadata": {
        "collapsed": false
      },
      "outputs": [],
      "source": [
        "# sphinx_gallery_thumbnail_path = \"_static/pysphinxdoc.png\"\n\nimport subprocess"
      ]
    },
    {
      "cell_type": "markdown",
      "metadata": {},
      "source": [
        "## Generate the rst auto documentation\n\n"
      ]
    },
    {
      "cell_type": "code",
      "execution_count": null,
      "metadata": {
        "collapsed": false
      },
      "outputs": [],
      "source": [
        "cmd = [\"sphinxdoc\", \"-v\", \"2\", \"-p\", \"$HOME/git/pysphinxdoc\", \"-n\",\n       \"pysphinxdoc\", \"-o\", \"$HOME/git/pysphinxdoc/doc\"]\nsubprocess.check_call(cmd)"
      ]
    },
    {
      "cell_type": "markdown",
      "metadata": {},
      "source": [
        "## Compute the html documentation\n\n"
      ]
    },
    {
      "cell_type": "code",
      "execution_count": null,
      "metadata": {
        "collapsed": false
      },
      "outputs": [],
      "source": [
        "cmd = [\"make\", \"raw-html\"]\nsubprocess.check_call(cmd,  cwd=\"$HOME/git/pysphinxdoc/doc\")"
      ]
    }
  ],
  "metadata": {
    "kernelspec": {
      "display_name": "Python 3",
      "language": "python",
      "name": "python3"
    },
    "language_info": {
      "codemirror_mode": {
        "name": "ipython",
        "version": 3
      },
      "file_extension": ".py",
      "mimetype": "text/x-python",
      "name": "python",
      "nbconvert_exporter": "python",
      "pygments_lexer": "ipython3",
      "version": "3.12.11"
    }
  },
  "nbformat": 4,
  "nbformat_minor": 0
}